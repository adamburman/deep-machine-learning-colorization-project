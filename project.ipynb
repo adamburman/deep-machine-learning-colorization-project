{
 "cells": [
  {
   "cell_type": "code",
   "execution_count": 1,
   "id": "852d51be",
   "metadata": {},
   "outputs": [],
   "source": [
    "NAME1 = \"Caroline Andersson\" \n",
    "NAME2 = \"Adam Burman\"\n",
    "GROUP = \"84\""
   ]
  },
  {
   "cell_type": "code",
   "execution_count": 3,
   "id": "2f2b7433",
   "metadata": {},
   "outputs": [],
   "source": [
    "### Check Python version\n",
    "from platform import python_version_tuple\n",
    "assert python_version_tuple()[:2] == ('3','9'), \"You are not running Python 3.9. Make sure to run Python through the course Conda environment.\""
   ]
  },
  {
   "cell_type": "markdown",
   "id": "1030e654",
   "metadata": {},
   "source": [
    "### Imports"
   ]
  },
  {
   "cell_type": "code",
   "execution_count": 46,
   "id": "43c4b5ba",
   "metadata": {},
   "outputs": [],
   "source": [
    "segmented_images_01 = r\"C:\\Users\\carol\\deep-machine-learning\\project\\Dataset\\01_labels\"\n",
    "images_01 = r\"C:\\Users\\carol\\deep-machine-learning\\project\\Dataset\\01_images\"\n",
    "\n",
    "import torch\n",
    "from sklearn.model_selection import train_test_split\n",
    "from sklearn.metrics import confusion_matrix\n",
    "\n",
    "from torch.utils.data import TensorDataset\n",
    "from torch.utils.data import DataLoader\n",
    "from torchvision.transforms import ToTensor\n",
    "from pathlib import Path\n",
    "import torchvision.transforms\n",
    "\n",
    "from torch import nn\n",
    "from torch import optim"
   ]
  },
  {
   "cell_type": "markdown",
   "id": "17cd2556",
   "metadata": {},
   "source": [
    "### Load Data"
   ]
  },
  {
   "cell_type": "markdown",
   "id": "aa2e81de",
   "metadata": {},
   "source": [
    "Make a dataloader class"
   ]
  },
  {
   "cell_type": "code",
   "execution_count": 53,
   "id": "27574241",
   "metadata": {},
   "outputs": [],
   "source": [
    "from torch.utils.data import Dataset\n",
    "from itertools import chain\n",
    "from PIL import Image\n",
    "import glob\n",
    "import os\n",
    "\n",
    "class GTAData(Dataset):\n",
    "    \n",
    "\n",
    "    def __init__(self, root, transform):\n",
    "            \"\"\"Constructor\n",
    "        \n",
    "        Args:\n",
    "            root (Path/str): Filepath to the data root\n",
    "            transform (Compose): A composition of image transforms.\n",
    "        \"\"\"\n",
    "            root = Path(root)\n",
    "            if not (root.exists() and root.is_dir()):\n",
    "                raise ValueError(f\"Data root '{root}' is invalid\")\n",
    "            \n",
    "            self.root = root\n",
    "            self.transform = transform\n",
    "            \n",
    "       \n",
    "    def __getitem__(self, index):\n",
    "        \"\"\"Get sample by index\n",
    "        \n",
    "        Args:\n",
    "            index (int)\n",
    "        \n",
    "        Returns:\n",
    "             The index'th sample Tensor\n",
    "        \"\"\"\n",
    "        # Access the stored path and label for the correct index\n",
    "        label, path = \n",
    "        # Load the image into memory\n",
    "        img = Image.open(self.root)\n",
    "        # Perform transforms, if any.\n",
    "        if self.transform is not None:\n",
    "            img = self.transform(img)\n",
    "        return img\n",
    "    \n",
    "\n",
    "      \n",
    "        "
   ]
  },
  {
   "cell_type": "code",
   "execution_count": 54,
   "id": "cc1e2dfe",
   "metadata": {},
   "outputs": [
    {
     "ename": "PermissionError",
     "evalue": "[Errno 13] Permission denied: 'C:\\\\Users\\\\carol\\\\deep-machine-learning\\\\project\\\\Dataset\\\\01_images'",
     "output_type": "error",
     "traceback": [
      "\u001b[1;31m---------------------------------------------------------------------------\u001b[0m",
      "\u001b[1;31mPermissionError\u001b[0m                           Traceback (most recent call last)",
      "Cell \u001b[1;32mIn[54], line 6\u001b[0m\n\u001b[0;32m      4\u001b[0m example_dataset \u001b[38;5;241m=\u001b[39m GTAData(images_01, transform)\n\u001b[0;32m      5\u001b[0m \u001b[38;5;66;03m#print(len(example_dataset)) #1\u001b[39;00m\n\u001b[1;32m----> 6\u001b[0m img \u001b[38;5;241m=\u001b[39m \u001b[43mexample_dataset\u001b[49m\u001b[43m[\u001b[49m\u001b[38;5;241;43m1\u001b[39;49m\u001b[43m]\u001b[49m\n\u001b[0;32m      7\u001b[0m \u001b[38;5;28mprint\u001b[39m(label)\n",
      "Cell \u001b[1;32mIn[53], line 35\u001b[0m, in \u001b[0;36mGTAData.__getitem__\u001b[1;34m(self, index)\u001b[0m\n\u001b[0;32m     24\u001b[0m \u001b[38;5;250m\u001b[39m\u001b[38;5;124;03m\"\"\"Get sample by index\u001b[39;00m\n\u001b[0;32m     25\u001b[0m \u001b[38;5;124;03m\u001b[39;00m\n\u001b[0;32m     26\u001b[0m \u001b[38;5;124;03mArgs:\u001b[39;00m\n\u001b[1;32m   (...)\u001b[0m\n\u001b[0;32m     30\u001b[0m \u001b[38;5;124;03m     The index'th sample Tensor\u001b[39;00m\n\u001b[0;32m     31\u001b[0m \u001b[38;5;124;03m\"\"\"\u001b[39;00m\n\u001b[0;32m     32\u001b[0m \u001b[38;5;66;03m# Access the stored path and label for the correct index\u001b[39;00m\n\u001b[0;32m     33\u001b[0m \u001b[38;5;66;03m#path = self._samples[index]\u001b[39;00m\n\u001b[0;32m     34\u001b[0m \u001b[38;5;66;03m# Load the image into memory\u001b[39;00m\n\u001b[1;32m---> 35\u001b[0m img \u001b[38;5;241m=\u001b[39m \u001b[43mImage\u001b[49m\u001b[38;5;241;43m.\u001b[39;49m\u001b[43mopen\u001b[49m\u001b[43m(\u001b[49m\u001b[38;5;28;43mself\u001b[39;49m\u001b[38;5;241;43m.\u001b[39;49m\u001b[43mroot\u001b[49m\u001b[43m)\u001b[49m\n\u001b[0;32m     36\u001b[0m \u001b[38;5;66;03m# Perform transforms, if any.\u001b[39;00m\n\u001b[0;32m     37\u001b[0m \u001b[38;5;28;01mif\u001b[39;00m \u001b[38;5;28mself\u001b[39m\u001b[38;5;241m.\u001b[39mtransform \u001b[38;5;129;01mis\u001b[39;00m \u001b[38;5;129;01mnot\u001b[39;00m \u001b[38;5;28;01mNone\u001b[39;00m:\n",
      "File \u001b[1;32m~\\anaconda3\\lib\\site-packages\\PIL\\Image.py:3227\u001b[0m, in \u001b[0;36mopen\u001b[1;34m(fp, mode, formats)\u001b[0m\n\u001b[0;32m   3224\u001b[0m     filename \u001b[38;5;241m=\u001b[39m fp\n\u001b[0;32m   3226\u001b[0m \u001b[38;5;28;01mif\u001b[39;00m filename:\n\u001b[1;32m-> 3227\u001b[0m     fp \u001b[38;5;241m=\u001b[39m \u001b[43mbuiltins\u001b[49m\u001b[38;5;241;43m.\u001b[39;49m\u001b[43mopen\u001b[49m\u001b[43m(\u001b[49m\u001b[43mfilename\u001b[49m\u001b[43m,\u001b[49m\u001b[43m \u001b[49m\u001b[38;5;124;43m\"\u001b[39;49m\u001b[38;5;124;43mrb\u001b[39;49m\u001b[38;5;124;43m\"\u001b[39;49m\u001b[43m)\u001b[49m\n\u001b[0;32m   3228\u001b[0m     exclusive_fp \u001b[38;5;241m=\u001b[39m \u001b[38;5;28;01mTrue\u001b[39;00m\n\u001b[0;32m   3230\u001b[0m \u001b[38;5;28;01mtry\u001b[39;00m:\n",
      "\u001b[1;31mPermissionError\u001b[0m: [Errno 13] Permission denied: 'C:\\\\Users\\\\carol\\\\deep-machine-learning\\\\project\\\\Dataset\\\\01_images'"
     ]
    }
   ],
   "source": [
    "from torchvision.transforms import Compose\n",
    "transform = Compose([ToTensor()])\n",
    "\n",
    "example_dataset = GTAData(images_01, transform)\n",
    "#print(len(example_dataset)) #1\n",
    "img = example_dataset[1]\n",
    "print(label) #2"
   ]
  },
  {
   "cell_type": "markdown",
   "id": "848a9822",
   "metadata": {},
   "source": [
    "### Augument and Normalize Data, reformat RGB --> Lab where L = X, a,b = Y"
   ]
  },
  {
   "cell_type": "code",
   "execution_count": null,
   "id": "7939b4a9",
   "metadata": {},
   "outputs": [],
   "source": []
  },
  {
   "cell_type": "markdown",
   "id": "de2511d5",
   "metadata": {},
   "source": [
    "###  Create Autoenconder\n",
    "vgg16 can be used as the encoder by using transfer learning with the gtaV images. Then a decoder has to be constructed from scratch to generate a new image."
   ]
  },
  {
   "cell_type": "code",
   "execution_count": null,
   "id": "972e58a6",
   "metadata": {},
   "outputs": [],
   "source": []
  },
  {
   "cell_type": "code",
   "execution_count": null,
   "id": "39abf348",
   "metadata": {},
   "outputs": [],
   "source": []
  }
 ],
 "metadata": {
  "kernelspec": {
   "display_name": "Python 3 (ipykernel)",
   "language": "python",
   "name": "python3"
  },
  "language_info": {
   "codemirror_mode": {
    "name": "ipython",
    "version": 3
   },
   "file_extension": ".py",
   "mimetype": "text/x-python",
   "name": "python",
   "nbconvert_exporter": "python",
   "pygments_lexer": "ipython3",
   "version": "3.9.17"
  }
 },
 "nbformat": 4,
 "nbformat_minor": 5
}

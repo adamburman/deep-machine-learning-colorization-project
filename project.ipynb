{
 "cells": [
  {
   "cell_type": "code",
   "execution_count": 1,
   "id": "71fb460e",
   "metadata": {},
   "outputs": [],
   "source": [
    "NAME1 = \"Caroline Andersson\" \n",
    "NAME2 = \"Adam Burman\"\n",
    "GROUP = \"84\""
   ]
  },
  {
   "cell_type": "code",
   "execution_count": 3,
   "id": "1b65e2fd",
   "metadata": {},
   "outputs": [],
   "source": [
    "### Check Python version\n",
    "from platform import python_version_tuple\n",
    "assert python_version_tuple()[:2] == ('3','9'), \"You are not running Python 3.9. Make sure to run Python through the course Conda environment.\""
   ]
  },
  {
   "cell_type": "markdown",
   "id": "0b1cbd3b",
   "metadata": {},
   "source": [
    "### Imports"
   ]
  },
  {
   "cell_type": "code",
   "execution_count": null,
   "id": "73cf0c14",
   "metadata": {},
   "outputs": [],
   "source": []
  },
  {
   "cell_type": "markdown",
   "id": "b2775176",
   "metadata": {},
   "source": [
    "### Load Data"
   ]
  },
  {
   "cell_type": "code",
   "execution_count": null,
   "id": "ebaf0896",
   "metadata": {},
   "outputs": [],
   "source": []
  },
  {
   "cell_type": "markdown",
   "id": "a95c55cd",
   "metadata": {},
   "source": [
    "### Augument and Normalize Data, reformat RGB --> Lab where L = X, a,b = Y"
   ]
  },
  {
   "cell_type": "code",
   "execution_count": null,
   "id": "e160c2c4",
   "metadata": {},
   "outputs": [],
   "source": []
  },
  {
   "cell_type": "markdown",
   "id": "75641de3",
   "metadata": {},
   "source": [
    "###  Create Autoenconder\n",
    "vgg16 can be used as the encoder by using transfer learning with the gtaV images. Then a decoder has to be constructed from scratch to generate a new image."
   ]
  },
  {
   "cell_type": "code",
   "execution_count": null,
   "id": "5adc8748",
   "metadata": {},
   "outputs": [],
   "source": []
  },
  {
   "cell_type": "code",
   "execution_count": null,
   "id": "365c9a1c",
   "metadata": {},
   "outputs": [],
   "source": []
  }
 ],
 "metadata": {
  "kernelspec": {
   "display_name": "Python 3 (ipykernel)",
   "language": "python",
   "name": "python3"
  },
  "language_info": {
   "codemirror_mode": {
    "name": "ipython",
    "version": 3
   },
   "file_extension": ".py",
   "mimetype": "text/x-python",
   "name": "python",
   "nbconvert_exporter": "python",
   "pygments_lexer": "ipython3",
   "version": "3.9.17"
  }
 },
 "nbformat": 4,
 "nbformat_minor": 5
}
